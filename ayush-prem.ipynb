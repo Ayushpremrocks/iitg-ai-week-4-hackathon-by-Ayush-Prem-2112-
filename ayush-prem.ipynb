{
 "cells": [
  {
   "cell_type": "code",
   "execution_count": 1,
   "id": "01fd72c7",
   "metadata": {
    "_cell_guid": "b1076dfc-b9ad-4769-8c92-a6c4dae69d19",
    "_uuid": "8f2839f25d086af736a60e9eeb907d3b93b6e0e5",
    "execution": {
     "iopub.execute_input": "2024-06-18T14:07:09.027747Z",
     "iopub.status.busy": "2024-06-18T14:07:09.027335Z",
     "iopub.status.idle": "2024-06-18T14:07:11.418051Z",
     "shell.execute_reply": "2024-06-18T14:07:11.416739Z"
    },
    "papermill": {
     "duration": 2.40048,
     "end_time": "2024-06-18T14:07:11.420342",
     "exception": false,
     "start_time": "2024-06-18T14:07:09.019862",
     "status": "completed"
    },
    "tags": []
   },
   "outputs": [
    {
     "name": "stdout",
     "output_type": "stream",
     "text": [
      "/kaggle/input/dataset/sample_submission.csv\n",
      "/kaggle/input/dataset/Train.csv\n",
      "/kaggle/input/dataset/Test.csv\n"
     ]
    }
   ],
   "source": [
    "#importing libraries\n",
    "import numpy as np \n",
    "import pandas as pd\n",
    "from sklearn import preprocessing\n",
    "from sklearn.model_selection import train_test_split\n",
    "from sklearn.linear_model import LogisticRegression\n",
    "from tqdm.auto import tqdm\n",
    "from sklearn.metrics import f1_score\n",
    "\n",
    "import os\n",
    "for dirname, _, filenames in os.walk('/kaggle/input/dataset'):\n",
    "    for filename in filenames:\n",
    "        print(os.path.join(dirname, filename))"
   ]
  },
  {
   "cell_type": "markdown",
   "id": "fe4cad64",
   "metadata": {
    "papermill": {
     "duration": 0.005366,
     "end_time": "2024-06-18T14:07:11.431462",
     "exception": false,
     "start_time": "2024-06-18T14:07:11.426096",
     "status": "completed"
    },
    "tags": []
   },
   "source": [
    "# loading training dataset and printing the dimensions of the dataset as well as the first five rows of the dataset"
   ]
  },
  {
   "cell_type": "code",
   "execution_count": 2,
   "id": "028164f9",
   "metadata": {
    "execution": {
     "iopub.execute_input": "2024-06-18T14:07:11.443810Z",
     "iopub.status.busy": "2024-06-18T14:07:11.443279Z",
     "iopub.status.idle": "2024-06-18T14:07:11.669326Z",
     "shell.execute_reply": "2024-06-18T14:07:11.668370Z"
    },
    "papermill": {
     "duration": 0.234611,
     "end_time": "2024-06-18T14:07:11.671366",
     "exception": false,
     "start_time": "2024-06-18T14:07:11.436755",
     "status": "completed"
    },
    "tags": []
   },
   "outputs": [
    {
     "name": "stdout",
     "output_type": "stream",
     "text": [
      "(40776, 32)\n"
     ]
    },
    {
     "data": {
      "text/html": [
       "<div>\n",
       "<style scoped>\n",
       "    .dataframe tbody tr th:only-of-type {\n",
       "        vertical-align: middle;\n",
       "    }\n",
       "\n",
       "    .dataframe tbody tr th {\n",
       "        vertical-align: top;\n",
       "    }\n",
       "\n",
       "    .dataframe thead th {\n",
       "        text-align: right;\n",
       "    }\n",
       "</style>\n",
       "<table border=\"1\" class=\"dataframe\">\n",
       "  <thead>\n",
       "    <tr style=\"text-align: right;\">\n",
       "      <th></th>\n",
       "      <th>V1</th>\n",
       "      <th>V2</th>\n",
       "      <th>V3</th>\n",
       "      <th>V4</th>\n",
       "      <th>V5</th>\n",
       "      <th>V6</th>\n",
       "      <th>V7</th>\n",
       "      <th>V8</th>\n",
       "      <th>V9</th>\n",
       "      <th>V10</th>\n",
       "      <th>...</th>\n",
       "      <th>V45</th>\n",
       "      <th>V47</th>\n",
       "      <th>V50</th>\n",
       "      <th>V51</th>\n",
       "      <th>V52</th>\n",
       "      <th>V59</th>\n",
       "      <th>V63</th>\n",
       "      <th>V72</th>\n",
       "      <th>V75</th>\n",
       "      <th>class</th>\n",
       "    </tr>\n",
       "  </thead>\n",
       "  <tbody>\n",
       "    <tr>\n",
       "      <th>0</th>\n",
       "      <td>0.0</td>\n",
       "      <td>1.0</td>\n",
       "      <td>243.0</td>\n",
       "      <td>29</td>\n",
       "      <td>4528.0</td>\n",
       "      <td>138.0</td>\n",
       "      <td>3.0</td>\n",
       "      <td>29</td>\n",
       "      <td>201.0</td>\n",
       "      <td>0.0</td>\n",
       "      <td>...</td>\n",
       "      <td>2</td>\n",
       "      <td>3</td>\n",
       "      <td>71.0</td>\n",
       "      <td>0</td>\n",
       "      <td>0</td>\n",
       "      <td>46.0</td>\n",
       "      <td>1</td>\n",
       "      <td>2</td>\n",
       "      <td>0</td>\n",
       "      <td>1</td>\n",
       "    </tr>\n",
       "    <tr>\n",
       "      <th>1</th>\n",
       "      <td>0.0</td>\n",
       "      <td>20.0</td>\n",
       "      <td>8.0</td>\n",
       "      <td>14</td>\n",
       "      <td>4183.0</td>\n",
       "      <td>183.0</td>\n",
       "      <td>4.0</td>\n",
       "      <td>26</td>\n",
       "      <td>156.0</td>\n",
       "      <td>0.0</td>\n",
       "      <td>...</td>\n",
       "      <td>5</td>\n",
       "      <td>7</td>\n",
       "      <td>20.0</td>\n",
       "      <td>0</td>\n",
       "      <td>2</td>\n",
       "      <td>13.0</td>\n",
       "      <td>9</td>\n",
       "      <td>6</td>\n",
       "      <td>0</td>\n",
       "      <td>1</td>\n",
       "    </tr>\n",
       "    <tr>\n",
       "      <th>2</th>\n",
       "      <td>14.0</td>\n",
       "      <td>2.0</td>\n",
       "      <td>2.0</td>\n",
       "      <td>9</td>\n",
       "      <td>1113.0</td>\n",
       "      <td>15.0</td>\n",
       "      <td>37.0</td>\n",
       "      <td>31</td>\n",
       "      <td>78.0</td>\n",
       "      <td>1.0</td>\n",
       "      <td>...</td>\n",
       "      <td>7</td>\n",
       "      <td>5</td>\n",
       "      <td>11.0</td>\n",
       "      <td>0</td>\n",
       "      <td>0</td>\n",
       "      <td>7.0</td>\n",
       "      <td>9</td>\n",
       "      <td>2</td>\n",
       "      <td>1</td>\n",
       "      <td>0</td>\n",
       "    </tr>\n",
       "    <tr>\n",
       "      <th>3</th>\n",
       "      <td>0.0</td>\n",
       "      <td>175.0</td>\n",
       "      <td>17.0</td>\n",
       "      <td>16</td>\n",
       "      <td>4250.0</td>\n",
       "      <td>68.0</td>\n",
       "      <td>8.0</td>\n",
       "      <td>30</td>\n",
       "      <td>152.0</td>\n",
       "      <td>0.0</td>\n",
       "      <td>...</td>\n",
       "      <td>1</td>\n",
       "      <td>3</td>\n",
       "      <td>0.0</td>\n",
       "      <td>1</td>\n",
       "      <td>1</td>\n",
       "      <td>31.0</td>\n",
       "      <td>6</td>\n",
       "      <td>4</td>\n",
       "      <td>5</td>\n",
       "      <td>1</td>\n",
       "    </tr>\n",
       "    <tr>\n",
       "      <th>4</th>\n",
       "      <td>2.0</td>\n",
       "      <td>-1.0</td>\n",
       "      <td>1.0</td>\n",
       "      <td>3</td>\n",
       "      <td>0.0</td>\n",
       "      <td>0.0</td>\n",
       "      <td>2.0</td>\n",
       "      <td>5</td>\n",
       "      <td>6.0</td>\n",
       "      <td>1.0</td>\n",
       "      <td>...</td>\n",
       "      <td>1</td>\n",
       "      <td>5</td>\n",
       "      <td>0.0</td>\n",
       "      <td>0</td>\n",
       "      <td>0</td>\n",
       "      <td>2.0</td>\n",
       "      <td>8</td>\n",
       "      <td>0</td>\n",
       "      <td>1</td>\n",
       "      <td>1</td>\n",
       "    </tr>\n",
       "  </tbody>\n",
       "</table>\n",
       "<p>5 rows × 32 columns</p>\n",
       "</div>"
      ],
      "text/plain": [
       "     V1     V2     V3  V4      V5     V6    V7  V8     V9  V10  ...  V45  V47  \\\n",
       "0   0.0    1.0  243.0  29  4528.0  138.0   3.0  29  201.0  0.0  ...    2    3   \n",
       "1   0.0   20.0    8.0  14  4183.0  183.0   4.0  26  156.0  0.0  ...    5    7   \n",
       "2  14.0    2.0    2.0   9  1113.0   15.0  37.0  31   78.0  1.0  ...    7    5   \n",
       "3   0.0  175.0   17.0  16  4250.0   68.0   8.0  30  152.0  0.0  ...    1    3   \n",
       "4   2.0   -1.0    1.0   3     0.0    0.0   2.0   5    6.0  1.0  ...    1    5   \n",
       "\n",
       "    V50  V51  V52   V59  V63  V72  V75  class  \n",
       "0  71.0    0    0  46.0    1    2    0      1  \n",
       "1  20.0    0    2  13.0    9    6    0      1  \n",
       "2  11.0    0    0   7.0    9    2    1      0  \n",
       "3   0.0    1    1  31.0    6    4    5      1  \n",
       "4   0.0    0    0   2.0    8    0    1      1  \n",
       "\n",
       "[5 rows x 32 columns]"
      ]
     },
     "execution_count": 2,
     "metadata": {},
     "output_type": "execute_result"
    }
   ],
   "source": [
    "train_df = pd.read_csv(\"/kaggle/input/dataset/Train.csv\")\n",
    "#to print the dimensions of the dataset\n",
    "print(train_df.shape)\n",
    "\n",
    "#to print the first five rows\n",
    "train_df.head()"
   ]
  },
  {
   "cell_type": "markdown",
   "id": "0f0c401b",
   "metadata": {
    "papermill": {
     "duration": 0.005359,
     "end_time": "2024-06-18T14:07:11.682411",
     "exception": false,
     "start_time": "2024-06-18T14:07:11.677052",
     "status": "completed"
    },
    "tags": []
   },
   "source": [
    "# printing the column name of the dataset"
   ]
  },
  {
   "cell_type": "code",
   "execution_count": 3,
   "id": "c33cce77",
   "metadata": {
    "execution": {
     "iopub.execute_input": "2024-06-18T14:07:11.695884Z",
     "iopub.status.busy": "2024-06-18T14:07:11.694910Z",
     "iopub.status.idle": "2024-06-18T14:07:11.702163Z",
     "shell.execute_reply": "2024-06-18T14:07:11.701139Z"
    },
    "papermill": {
     "duration": 0.01618,
     "end_time": "2024-06-18T14:07:11.704177",
     "exception": false,
     "start_time": "2024-06-18T14:07:11.687997",
     "status": "completed"
    },
    "tags": []
   },
   "outputs": [
    {
     "data": {
      "text/plain": [
       "Index(['V1', 'V2', 'V3', 'V4', 'V5', 'V6', 'V7', 'V8', 'V9', 'V10', 'V11',\n",
       "       'V13', 'V19', 'V22', 'V30', 'V33', 'V35', 'V36', 'V40', 'V41', 'V42',\n",
       "       'V43', 'V45', 'V47', 'V50', 'V51', 'V52', 'V59', 'V63', 'V72', 'V75',\n",
       "       'class'],\n",
       "      dtype='object')"
      ]
     },
     "execution_count": 3,
     "metadata": {},
     "output_type": "execute_result"
    }
   ],
   "source": [
    "train_df.columns"
   ]
  },
  {
   "cell_type": "markdown",
   "id": "bac95c4b",
   "metadata": {
    "papermill": {
     "duration": 0.005502,
     "end_time": "2024-06-18T14:07:11.715523",
     "exception": false,
     "start_time": "2024-06-18T14:07:11.710021",
     "status": "completed"
    },
    "tags": []
   },
   "source": [
    "# spliting the dataset into X and Y"
   ]
  },
  {
   "cell_type": "code",
   "execution_count": 4,
   "id": "d9417214",
   "metadata": {
    "execution": {
     "iopub.execute_input": "2024-06-18T14:07:11.728776Z",
     "iopub.status.busy": "2024-06-18T14:07:11.728387Z",
     "iopub.status.idle": "2024-06-18T14:07:11.737540Z",
     "shell.execute_reply": "2024-06-18T14:07:11.736526Z"
    },
    "papermill": {
     "duration": 0.018585,
     "end_time": "2024-06-18T14:07:11.739989",
     "exception": false,
     "start_time": "2024-06-18T14:07:11.721404",
     "status": "completed"
    },
    "tags": []
   },
   "outputs": [],
   "source": [
    "X = train_df.drop(['class'], axis=1)\n",
    "y = train_df['class']"
   ]
  },
  {
   "cell_type": "code",
   "execution_count": 5,
   "id": "8cd0ff75",
   "metadata": {
    "execution": {
     "iopub.execute_input": "2024-06-18T14:07:11.753816Z",
     "iopub.status.busy": "2024-06-18T14:07:11.753403Z",
     "iopub.status.idle": "2024-06-18T14:07:11.779921Z",
     "shell.execute_reply": "2024-06-18T14:07:11.778873Z"
    },
    "papermill": {
     "duration": 0.036491,
     "end_time": "2024-06-18T14:07:11.782374",
     "exception": false,
     "start_time": "2024-06-18T14:07:11.745883",
     "status": "completed"
    },
    "tags": []
   },
   "outputs": [],
   "source": [
    "X_train, X_val, y_train, y_val = train_test_split(X, y, test_size = 0.3)"
   ]
  },
  {
   "cell_type": "markdown",
   "id": "235af538",
   "metadata": {
    "papermill": {
     "duration": 0.006386,
     "end_time": "2024-06-18T14:07:11.794554",
     "exception": false,
     "start_time": "2024-06-18T14:07:11.788168",
     "status": "completed"
    },
    "tags": []
   },
   "source": [
    "# count of target in training dataset"
   ]
  },
  {
   "cell_type": "code",
   "execution_count": 6,
   "id": "5663180c",
   "metadata": {
    "execution": {
     "iopub.execute_input": "2024-06-18T14:07:11.807694Z",
     "iopub.status.busy": "2024-06-18T14:07:11.807299Z",
     "iopub.status.idle": "2024-06-18T14:07:11.821100Z",
     "shell.execute_reply": "2024-06-18T14:07:11.819781Z"
    },
    "papermill": {
     "duration": 0.022976,
     "end_time": "2024-06-18T14:07:11.823397",
     "exception": false,
     "start_time": "2024-06-18T14:07:11.800421",
     "status": "completed"
    },
    "tags": []
   },
   "outputs": [
    {
     "name": "stdout",
     "output_type": "stream",
     "text": [
      "class\n",
      "0    14278\n",
      "1    14265\n",
      "Name: count, dtype: int64\n"
     ]
    }
   ],
   "source": [
    "print(y_train.value_counts())"
   ]
  },
  {
   "cell_type": "markdown",
   "id": "c8d6e82f",
   "metadata": {
    "papermill": {
     "duration": 0.005654,
     "end_time": "2024-06-18T14:07:11.835082",
     "exception": false,
     "start_time": "2024-06-18T14:07:11.829428",
     "status": "completed"
    },
    "tags": []
   },
   "source": [
    "# training a logistic regression model (iterations = 5000)"
   ]
  },
  {
   "cell_type": "code",
   "execution_count": 7,
   "id": "e9371aff",
   "metadata": {
    "execution": {
     "iopub.execute_input": "2024-06-18T14:07:11.848935Z",
     "iopub.status.busy": "2024-06-18T14:07:11.848111Z",
     "iopub.status.idle": "2024-06-18T14:07:23.646709Z",
     "shell.execute_reply": "2024-06-18T14:07:23.645541Z"
    },
    "papermill": {
     "duration": 11.808905,
     "end_time": "2024-06-18T14:07:23.650033",
     "exception": false,
     "start_time": "2024-06-18T14:07:11.841128",
     "status": "completed"
    },
    "tags": []
   },
   "outputs": [
    {
     "data": {
      "text/html": [
       "<style>#sk-container-id-1 {color: black;background-color: white;}#sk-container-id-1 pre{padding: 0;}#sk-container-id-1 div.sk-toggleable {background-color: white;}#sk-container-id-1 label.sk-toggleable__label {cursor: pointer;display: block;width: 100%;margin-bottom: 0;padding: 0.3em;box-sizing: border-box;text-align: center;}#sk-container-id-1 label.sk-toggleable__label-arrow:before {content: \"▸\";float: left;margin-right: 0.25em;color: #696969;}#sk-container-id-1 label.sk-toggleable__label-arrow:hover:before {color: black;}#sk-container-id-1 div.sk-estimator:hover label.sk-toggleable__label-arrow:before {color: black;}#sk-container-id-1 div.sk-toggleable__content {max-height: 0;max-width: 0;overflow: hidden;text-align: left;background-color: #f0f8ff;}#sk-container-id-1 div.sk-toggleable__content pre {margin: 0.2em;color: black;border-radius: 0.25em;background-color: #f0f8ff;}#sk-container-id-1 input.sk-toggleable__control:checked~div.sk-toggleable__content {max-height: 200px;max-width: 100%;overflow: auto;}#sk-container-id-1 input.sk-toggleable__control:checked~label.sk-toggleable__label-arrow:before {content: \"▾\";}#sk-container-id-1 div.sk-estimator input.sk-toggleable__control:checked~label.sk-toggleable__label {background-color: #d4ebff;}#sk-container-id-1 div.sk-label input.sk-toggleable__control:checked~label.sk-toggleable__label {background-color: #d4ebff;}#sk-container-id-1 input.sk-hidden--visually {border: 0;clip: rect(1px 1px 1px 1px);clip: rect(1px, 1px, 1px, 1px);height: 1px;margin: -1px;overflow: hidden;padding: 0;position: absolute;width: 1px;}#sk-container-id-1 div.sk-estimator {font-family: monospace;background-color: #f0f8ff;border: 1px dotted black;border-radius: 0.25em;box-sizing: border-box;margin-bottom: 0.5em;}#sk-container-id-1 div.sk-estimator:hover {background-color: #d4ebff;}#sk-container-id-1 div.sk-parallel-item::after {content: \"\";width: 100%;border-bottom: 1px solid gray;flex-grow: 1;}#sk-container-id-1 div.sk-label:hover label.sk-toggleable__label {background-color: #d4ebff;}#sk-container-id-1 div.sk-serial::before {content: \"\";position: absolute;border-left: 1px solid gray;box-sizing: border-box;top: 0;bottom: 0;left: 50%;z-index: 0;}#sk-container-id-1 div.sk-serial {display: flex;flex-direction: column;align-items: center;background-color: white;padding-right: 0.2em;padding-left: 0.2em;position: relative;}#sk-container-id-1 div.sk-item {position: relative;z-index: 1;}#sk-container-id-1 div.sk-parallel {display: flex;align-items: stretch;justify-content: center;background-color: white;position: relative;}#sk-container-id-1 div.sk-item::before, #sk-container-id-1 div.sk-parallel-item::before {content: \"\";position: absolute;border-left: 1px solid gray;box-sizing: border-box;top: 0;bottom: 0;left: 50%;z-index: -1;}#sk-container-id-1 div.sk-parallel-item {display: flex;flex-direction: column;z-index: 1;position: relative;background-color: white;}#sk-container-id-1 div.sk-parallel-item:first-child::after {align-self: flex-end;width: 50%;}#sk-container-id-1 div.sk-parallel-item:last-child::after {align-self: flex-start;width: 50%;}#sk-container-id-1 div.sk-parallel-item:only-child::after {width: 0;}#sk-container-id-1 div.sk-dashed-wrapped {border: 1px dashed gray;margin: 0 0.4em 0.5em 0.4em;box-sizing: border-box;padding-bottom: 0.4em;background-color: white;}#sk-container-id-1 div.sk-label label {font-family: monospace;font-weight: bold;display: inline-block;line-height: 1.2em;}#sk-container-id-1 div.sk-label-container {text-align: center;}#sk-container-id-1 div.sk-container {/* jupyter's `normalize.less` sets `[hidden] { display: none; }` but bootstrap.min.css set `[hidden] { display: none !important; }` so we also need the `!important` here to be able to override the default hidden behavior on the sphinx rendered scikit-learn.org. See: https://github.com/scikit-learn/scikit-learn/issues/21755 */display: inline-block !important;position: relative;}#sk-container-id-1 div.sk-text-repr-fallback {display: none;}</style><div id=\"sk-container-id-1\" class=\"sk-top-container\"><div class=\"sk-text-repr-fallback\"><pre>LogisticRegression(max_iter=5000)</pre><b>In a Jupyter environment, please rerun this cell to show the HTML representation or trust the notebook. <br />On GitHub, the HTML representation is unable to render, please try loading this page with nbviewer.org.</b></div><div class=\"sk-container\" hidden><div class=\"sk-item\"><div class=\"sk-estimator sk-toggleable\"><input class=\"sk-toggleable__control sk-hidden--visually\" id=\"sk-estimator-id-1\" type=\"checkbox\" checked><label for=\"sk-estimator-id-1\" class=\"sk-toggleable__label sk-toggleable__label-arrow\">LogisticRegression</label><div class=\"sk-toggleable__content\"><pre>LogisticRegression(max_iter=5000)</pre></div></div></div></div></div>"
      ],
      "text/plain": [
       "LogisticRegression(max_iter=5000)"
      ]
     },
     "execution_count": 7,
     "metadata": {},
     "output_type": "execute_result"
    }
   ],
   "source": [
    "log_reg= LogisticRegression(max_iter=5000)\n",
    "log_reg.fit(X_train, y_train)"
   ]
  },
  {
   "cell_type": "markdown",
   "id": "7ccf945e",
   "metadata": {
    "papermill": {
     "duration": 0.009906,
     "end_time": "2024-06-18T14:07:23.670443",
     "exception": false,
     "start_time": "2024-06-18T14:07:23.660537",
     "status": "completed"
    },
    "tags": []
   },
   "source": [
    "# calculating the F1 score"
   ]
  },
  {
   "cell_type": "code",
   "execution_count": 8,
   "id": "ca6a4339",
   "metadata": {
    "execution": {
     "iopub.execute_input": "2024-06-18T14:07:23.694695Z",
     "iopub.status.busy": "2024-06-18T14:07:23.694158Z",
     "iopub.status.idle": "2024-06-18T14:07:23.725467Z",
     "shell.execute_reply": "2024-06-18T14:07:23.724279Z"
    },
    "papermill": {
     "duration": 0.047248,
     "end_time": "2024-06-18T14:07:23.729021",
     "exception": false,
     "start_time": "2024-06-18T14:07:23.681773",
     "status": "completed"
    },
    "tags": []
   },
   "outputs": [
    {
     "name": "stdout",
     "output_type": "stream",
     "text": [
      "0.6402716806096248\n"
     ]
    }
   ],
   "source": [
    "y_pred = log_reg.predict(X_val)\n",
    "print(f1_score(y_val, y_pred))"
   ]
  },
  {
   "cell_type": "markdown",
   "id": "e6a5c644",
   "metadata": {
    "papermill": {
     "duration": 0.00974,
     "end_time": "2024-06-18T14:07:23.749626",
     "exception": false,
     "start_time": "2024-06-18T14:07:23.739886",
     "status": "completed"
    },
    "tags": []
   },
   "source": [
    "# loading testing dataset and printing the dimensions of the dataset as well as the first five rows of the dataset"
   ]
  },
  {
   "cell_type": "code",
   "execution_count": 9,
   "id": "3a1af4a3",
   "metadata": {
    "execution": {
     "iopub.execute_input": "2024-06-18T14:07:23.771963Z",
     "iopub.status.busy": "2024-06-18T14:07:23.771459Z",
     "iopub.status.idle": "2024-06-18T14:07:23.893228Z",
     "shell.execute_reply": "2024-06-18T14:07:23.892056Z"
    },
    "papermill": {
     "duration": 0.135774,
     "end_time": "2024-06-18T14:07:23.895457",
     "exception": false,
     "start_time": "2024-06-18T14:07:23.759683",
     "status": "completed"
    },
    "tags": []
   },
   "outputs": [
    {
     "name": "stdout",
     "output_type": "stream",
     "text": [
      "(17476, 32)\n"
     ]
    },
    {
     "data": {
      "text/html": [
       "<div>\n",
       "<style scoped>\n",
       "    .dataframe tbody tr th:only-of-type {\n",
       "        vertical-align: middle;\n",
       "    }\n",
       "\n",
       "    .dataframe tbody tr th {\n",
       "        vertical-align: top;\n",
       "    }\n",
       "\n",
       "    .dataframe thead th {\n",
       "        text-align: right;\n",
       "    }\n",
       "</style>\n",
       "<table border=\"1\" class=\"dataframe\">\n",
       "  <thead>\n",
       "    <tr style=\"text-align: right;\">\n",
       "      <th></th>\n",
       "      <th>Index</th>\n",
       "      <th>V1</th>\n",
       "      <th>V2</th>\n",
       "      <th>V3</th>\n",
       "      <th>V4</th>\n",
       "      <th>V5</th>\n",
       "      <th>V6</th>\n",
       "      <th>V7</th>\n",
       "      <th>V8</th>\n",
       "      <th>V9</th>\n",
       "      <th>...</th>\n",
       "      <th>V43</th>\n",
       "      <th>V45</th>\n",
       "      <th>V47</th>\n",
       "      <th>V50</th>\n",
       "      <th>V51</th>\n",
       "      <th>V52</th>\n",
       "      <th>V59</th>\n",
       "      <th>V63</th>\n",
       "      <th>V72</th>\n",
       "      <th>V75</th>\n",
       "    </tr>\n",
       "  </thead>\n",
       "  <tbody>\n",
       "    <tr>\n",
       "      <th>0</th>\n",
       "      <td>40977</td>\n",
       "      <td>3.0</td>\n",
       "      <td>97.0</td>\n",
       "      <td>2.0</td>\n",
       "      <td>3</td>\n",
       "      <td>475.0</td>\n",
       "      <td>23.0</td>\n",
       "      <td>11.0</td>\n",
       "      <td>10</td>\n",
       "      <td>146.0</td>\n",
       "      <td>...</td>\n",
       "      <td>123.0</td>\n",
       "      <td>1</td>\n",
       "      <td>8</td>\n",
       "      <td>0.0</td>\n",
       "      <td>0</td>\n",
       "      <td>1</td>\n",
       "      <td>5.0</td>\n",
       "      <td>6</td>\n",
       "      <td>14</td>\n",
       "      <td>0</td>\n",
       "    </tr>\n",
       "    <tr>\n",
       "      <th>1</th>\n",
       "      <td>24157</td>\n",
       "      <td>7.0</td>\n",
       "      <td>29.0</td>\n",
       "      <td>11.0</td>\n",
       "      <td>10</td>\n",
       "      <td>8.0</td>\n",
       "      <td>2.0</td>\n",
       "      <td>11.0</td>\n",
       "      <td>16</td>\n",
       "      <td>19.0</td>\n",
       "      <td>...</td>\n",
       "      <td>26.0</td>\n",
       "      <td>1</td>\n",
       "      <td>8</td>\n",
       "      <td>2.0</td>\n",
       "      <td>4</td>\n",
       "      <td>1</td>\n",
       "      <td>45.0</td>\n",
       "      <td>6</td>\n",
       "      <td>2</td>\n",
       "      <td>26</td>\n",
       "    </tr>\n",
       "    <tr>\n",
       "      <th>2</th>\n",
       "      <td>56238</td>\n",
       "      <td>2.0</td>\n",
       "      <td>9.0</td>\n",
       "      <td>5.0</td>\n",
       "      <td>1</td>\n",
       "      <td>1003.0</td>\n",
       "      <td>29.0</td>\n",
       "      <td>2.0</td>\n",
       "      <td>29</td>\n",
       "      <td>54.0</td>\n",
       "      <td>...</td>\n",
       "      <td>10.0</td>\n",
       "      <td>1</td>\n",
       "      <td>5</td>\n",
       "      <td>35.0</td>\n",
       "      <td>1</td>\n",
       "      <td>1</td>\n",
       "      <td>6.0</td>\n",
       "      <td>6</td>\n",
       "      <td>2</td>\n",
       "      <td>3</td>\n",
       "    </tr>\n",
       "    <tr>\n",
       "      <th>3</th>\n",
       "      <td>55411</td>\n",
       "      <td>0.0</td>\n",
       "      <td>0.0</td>\n",
       "      <td>22.0</td>\n",
       "      <td>17</td>\n",
       "      <td>1527.0</td>\n",
       "      <td>28.0</td>\n",
       "      <td>4.0</td>\n",
       "      <td>24</td>\n",
       "      <td>28.0</td>\n",
       "      <td>...</td>\n",
       "      <td>95.0</td>\n",
       "      <td>8</td>\n",
       "      <td>8</td>\n",
       "      <td>1.0</td>\n",
       "      <td>2</td>\n",
       "      <td>1</td>\n",
       "      <td>15.0</td>\n",
       "      <td>8</td>\n",
       "      <td>1</td>\n",
       "      <td>3</td>\n",
       "    </tr>\n",
       "    <tr>\n",
       "      <th>4</th>\n",
       "      <td>53175</td>\n",
       "      <td>13.0</td>\n",
       "      <td>-1.0</td>\n",
       "      <td>46.0</td>\n",
       "      <td>6</td>\n",
       "      <td>4.0</td>\n",
       "      <td>5.0</td>\n",
       "      <td>16.0</td>\n",
       "      <td>15</td>\n",
       "      <td>22.0</td>\n",
       "      <td>...</td>\n",
       "      <td>30.0</td>\n",
       "      <td>5</td>\n",
       "      <td>8</td>\n",
       "      <td>13.0</td>\n",
       "      <td>1</td>\n",
       "      <td>1</td>\n",
       "      <td>5.0</td>\n",
       "      <td>6</td>\n",
       "      <td>1</td>\n",
       "      <td>2</td>\n",
       "    </tr>\n",
       "  </tbody>\n",
       "</table>\n",
       "<p>5 rows × 32 columns</p>\n",
       "</div>"
      ],
      "text/plain": [
       "   Index    V1    V2    V3  V4      V5    V6    V7  V8     V9  ...    V43  \\\n",
       "0  40977   3.0  97.0   2.0   3   475.0  23.0  11.0  10  146.0  ...  123.0   \n",
       "1  24157   7.0  29.0  11.0  10     8.0   2.0  11.0  16   19.0  ...   26.0   \n",
       "2  56238   2.0   9.0   5.0   1  1003.0  29.0   2.0  29   54.0  ...   10.0   \n",
       "3  55411   0.0   0.0  22.0  17  1527.0  28.0   4.0  24   28.0  ...   95.0   \n",
       "4  53175  13.0  -1.0  46.0   6     4.0   5.0  16.0  15   22.0  ...   30.0   \n",
       "\n",
       "   V45  V47   V50  V51  V52   V59  V63  V72  V75  \n",
       "0    1    8   0.0    0    1   5.0    6   14    0  \n",
       "1    1    8   2.0    4    1  45.0    6    2   26  \n",
       "2    1    5  35.0    1    1   6.0    6    2    3  \n",
       "3    8    8   1.0    2    1  15.0    8    1    3  \n",
       "4    5    8  13.0    1    1   5.0    6    1    2  \n",
       "\n",
       "[5 rows x 32 columns]"
      ]
     },
     "execution_count": 9,
     "metadata": {},
     "output_type": "execute_result"
    }
   ],
   "source": [
    "test_df = pd.read_csv(\"/kaggle/input/dataset/Test.csv\")\n",
    "#to print the dimensions of the dataset\n",
    "print(test_df.shape)\n",
    "\n",
    "#to print the first five rows\n",
    "test_df.head()"
   ]
  },
  {
   "cell_type": "markdown",
   "id": "0e5abdec",
   "metadata": {
    "papermill": {
     "duration": 0.006381,
     "end_time": "2024-06-18T14:07:23.908609",
     "exception": false,
     "start_time": "2024-06-18T14:07:23.902228",
     "status": "completed"
    },
    "tags": []
   },
   "source": [
    "# creating index and removing it from the dataset using .drop()"
   ]
  },
  {
   "cell_type": "code",
   "execution_count": 10,
   "id": "defe7b17",
   "metadata": {
    "execution": {
     "iopub.execute_input": "2024-06-18T14:07:23.924051Z",
     "iopub.status.busy": "2024-06-18T14:07:23.923470Z",
     "iopub.status.idle": "2024-06-18T14:07:23.930993Z",
     "shell.execute_reply": "2024-06-18T14:07:23.929950Z"
    },
    "papermill": {
     "duration": 0.018128,
     "end_time": "2024-06-18T14:07:23.933357",
     "exception": false,
     "start_time": "2024-06-18T14:07:23.915229",
     "status": "completed"
    },
    "tags": []
   },
   "outputs": [],
   "source": [
    "Index=test_df['Index']\n",
    "test_df.drop(['Index'],axis=1,inplace=True)"
   ]
  },
  {
   "cell_type": "markdown",
   "id": "94302cdf",
   "metadata": {
    "papermill": {
     "duration": 0.006363,
     "end_time": "2024-06-18T14:07:23.946606",
     "exception": false,
     "start_time": "2024-06-18T14:07:23.940243",
     "status": "completed"
    },
    "tags": []
   },
   "source": [
    "# making predictions on the testing dataset"
   ]
  },
  {
   "cell_type": "code",
   "execution_count": 11,
   "id": "e1ea93c4",
   "metadata": {
    "execution": {
     "iopub.execute_input": "2024-06-18T14:07:23.961176Z",
     "iopub.status.busy": "2024-06-18T14:07:23.960789Z",
     "iopub.status.idle": "2024-06-18T14:07:23.970796Z",
     "shell.execute_reply": "2024-06-18T14:07:23.969256Z"
    },
    "papermill": {
     "duration": 0.019985,
     "end_time": "2024-06-18T14:07:23.973042",
     "exception": false,
     "start_time": "2024-06-18T14:07:23.953057",
     "status": "completed"
    },
    "tags": []
   },
   "outputs": [
    {
     "name": "stdout",
     "output_type": "stream",
     "text": [
      "[0 0 1 ... 1 0 0]\n"
     ]
    }
   ],
   "source": [
    "y_test = log_reg.predict(test_df)\n",
    "print(y_test)"
   ]
  },
  {
   "cell_type": "markdown",
   "id": "a6f96d3c",
   "metadata": {
    "papermill": {
     "duration": 0.010571,
     "end_time": "2024-06-18T14:07:23.992543",
     "exception": false,
     "start_time": "2024-06-18T14:07:23.981972",
     "status": "completed"
    },
    "tags": []
   },
   "source": [
    "# Result"
   ]
  },
  {
   "cell_type": "code",
   "execution_count": 12,
   "id": "4f489d0a",
   "metadata": {
    "execution": {
     "iopub.execute_input": "2024-06-18T14:07:24.016247Z",
     "iopub.status.busy": "2024-06-18T14:07:24.015750Z",
     "iopub.status.idle": "2024-06-18T14:07:24.026445Z",
     "shell.execute_reply": "2024-06-18T14:07:24.025167Z"
    },
    "papermill": {
     "duration": 0.025939,
     "end_time": "2024-06-18T14:07:24.029392",
     "exception": false,
     "start_time": "2024-06-18T14:07:24.003453",
     "status": "completed"
    },
    "tags": []
   },
   "outputs": [
    {
     "name": "stdout",
     "output_type": "stream",
     "text": [
      "       Index  class\n",
      "0      40977      0\n",
      "1      24157      0\n",
      "2      56238      1\n",
      "3      55411      1\n",
      "4      53175      1\n",
      "...      ...    ...\n",
      "17471  17197      1\n",
      "17472  14094      0\n",
      "17473  34598      1\n",
      "17474  17845      0\n",
      "17475  11574      0\n",
      "\n",
      "[17476 rows x 2 columns]\n"
     ]
    }
   ],
   "source": [
    "result = pd.DataFrame({\n",
    "    'Index': Index,\n",
    "    'class': y_test\n",
    "})\n",
    "\n",
    "print(result)"
   ]
  },
  {
   "cell_type": "markdown",
   "id": "b3cedf6a",
   "metadata": {
    "papermill": {
     "duration": 0.010549,
     "end_time": "2024-06-18T14:07:24.051042",
     "exception": false,
     "start_time": "2024-06-18T14:07:24.040493",
     "status": "completed"
    },
    "tags": []
   },
   "source": [
    "# Submission CSV File"
   ]
  },
  {
   "cell_type": "code",
   "execution_count": 13,
   "id": "957be506",
   "metadata": {
    "execution": {
     "iopub.execute_input": "2024-06-18T14:07:24.075213Z",
     "iopub.status.busy": "2024-06-18T14:07:24.074702Z",
     "iopub.status.idle": "2024-06-18T14:07:24.100127Z",
     "shell.execute_reply": "2024-06-18T14:07:24.099162Z"
    },
    "papermill": {
     "duration": 0.040306,
     "end_time": "2024-06-18T14:07:24.102604",
     "exception": false,
     "start_time": "2024-06-18T14:07:24.062298",
     "status": "completed"
    },
    "tags": []
   },
   "outputs": [],
   "source": [
    "result.to_csv(\"submission.csv\", index=False)"
   ]
  }
 ],
 "metadata": {
  "kaggle": {
   "accelerator": "none",
   "dataSources": [
    {
     "databundleVersionId": 8809707,
     "sourceId": 81427,
     "sourceType": "competition"
    },
    {
     "datasetId": 5231900,
     "sourceId": 8719455,
     "sourceType": "datasetVersion"
    }
   ],
   "dockerImageVersionId": 30732,
   "isGpuEnabled": false,
   "isInternetEnabled": false,
   "language": "python",
   "sourceType": "notebook"
  },
  "kernelspec": {
   "display_name": "Python 3",
   "language": "python",
   "name": "python3"
  },
  "language_info": {
   "codemirror_mode": {
    "name": "ipython",
    "version": 3
   },
   "file_extension": ".py",
   "mimetype": "text/x-python",
   "name": "python",
   "nbconvert_exporter": "python",
   "pygments_lexer": "ipython3",
   "version": "3.10.13"
  },
  "papermill": {
   "default_parameters": {},
   "duration": 18.471775,
   "end_time": "2024-06-18T14:07:24.730009",
   "environment_variables": {},
   "exception": null,
   "input_path": "__notebook__.ipynb",
   "output_path": "__notebook__.ipynb",
   "parameters": {},
   "start_time": "2024-06-18T14:07:06.258234",
   "version": "2.5.0"
  }
 },
 "nbformat": 4,
 "nbformat_minor": 5
}
